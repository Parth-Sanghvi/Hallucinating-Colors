{
 "cells": [
  {
   "cell_type": "code",
   "execution_count": null,
   "metadata": {},
   "outputs": [],
   "source": [
    "import os\n",
    "import cv2\n",
    "import numpy as np\n",
    "import matplotlib.pyplot as plt\n",
    "\n",
    "from utils import data_generator\n",
    "\n",
    "IMAGENET_FOLDER = \"val\""
   ]
  },
  {
   "cell_type": "markdown",
   "metadata": {},
   "source": [
    "<h2>2d bins pre-process</h2>"
   ]
  },
  {
   "cell_type": "code",
   "execution_count": null,
   "metadata": {},
   "outputs": [],
   "source": [
    "# LAUNCH THIS BLOCK TO TRY OUT THE DATA GENERATOR\n",
    "from utils import process_output\n",
    "\n",
    "gen = data_generator(IMAGENET_FOLDER, resolution=104, n_bins=13)\n",
    "feature, labels = next(gen)\n",
    "\n",
    "plt.subplot(1, 2, 1)\n",
    "plt.imshow(feature[:, :, 0], cmap=\"gray\")\n",
    "plt.title(\"features\")\n",
    "plt.subplot(1, 2, 2)\n",
    "plt.imshow(process_output(np.zeros(feature.shape) + 127, labels, np.shape(labels), n_1d_bins=13))\n",
    "plt.title(\"labels\")"
   ]
  },
  {
   "cell_type": "code",
   "execution_count": null,
   "metadata": {
    "scrolled": false
   },
   "outputs": [],
   "source": [
    "# LAUNCH THIS BLOCK TO VISUALIZE THE PRE PROCESS\n",
    "from utils import pre_process, process_output\n",
    "\n",
    "def plot_visualization(image, resolution, n_bins):\n",
    "    \"\"\"\n",
    "    Function to visualize the best output we could have from\n",
    "    a perfect a model, given the information lost in the pre-process.\n",
    "    (especially the resizing makes us lose a lot of details)\n",
    "    \"\"\"\n",
    "    features, labels = pre_process(image, resolution=resolution, n_1d_bins=n_bins)\n",
    "    output = process_output(features, labels, np.shape(image), n_1d_bins=n_bins)\n",
    "    \n",
    "    plt.subplot(1, 3, 1)\n",
    "    plt.imshow(image)\n",
    "    plt.title(\"original image\")\n",
    "    \n",
    "    plt.subplot(1, 3, 2)\n",
    "    plt.imshow(output)\n",
    "    plt.title(\"optimal network output\")\n",
    "    \n",
    "    plt.subplot(1, 3, 3)\n",
    "    plt.imshow(features[:, :, 0], cmap=\"gray\")\n",
    "    plt.title(\"network input\")\n",
    "\n",
    "resolution = 104\n",
    "n_bins = 13\n",
    "    \n",
    "list_names = np.random.choice(next(os.walk(IMAGENET_FOLDER))[2], 6, replace=False)\n",
    "for name in list_names:\n",
    "    bgr_image = cv2.imread(IMAGENET_FOLDER + \"/\" + name)\n",
    "    rgb_image = bgr_image[:, :, ::-1]\n",
    "    \n",
    "    plt.figure(figsize=(15, 5))\n",
    "    plot_visualization(rgb_image, resolution, n_bins)"
   ]
  },
  {
   "cell_type": "code",
   "execution_count": null,
   "metadata": {},
   "outputs": [],
   "source": [
    "# PLOT HISTOGRAM OF LUMINANCE IN FEATURES (for 1,000 random images, also veery slow)\n",
    "hist_dict = dict(((i, 0) for i in range(-128, 128)))\n",
    "index = 0\n",
    "for feature, label in gen:\n",
    "    if index == 1000:\n",
    "        break\n",
    "    for value in feature.flatten():\n",
    "        hist_dict[value] += 1\n",
    "    index += 1\n",
    "\n",
    "plt.bar(list(hist_dict.keys()), hist_dict.values())"
   ]
  },
  {
   "cell_type": "markdown",
   "metadata": {},
   "source": [
    "<h2>Regression pre-process</h2>"
   ]
  },
  {
   "cell_type": "code",
   "execution_count": null,
   "metadata": {},
   "outputs": [],
   "source": [
    "# LAUNCH THIS BLOCK TO TRY OUT THE DATA GENERATOR\n",
    "from utils import process_output_regression\n",
    "\n",
    "resolution = 104\n",
    "\n",
    "gen = data_generator(IMAGENET_FOLDER, resolution=resolution, is_regression=True)\n",
    "feature, labels = next(gen)\n",
    "\n",
    "plt.subplot(1, 2, 1)\n",
    "plt.imshow(feature[:, :, 0], cmap=\"gray\")\n",
    "plt.title(\"features\")\n",
    "plt.subplot(1, 2, 2)\n",
    "plt.imshow(process_output_regression(np.zeros(feature.shape) + 127, labels, np.shape(labels)))\n",
    "plt.title(\"labels\")"
   ]
  },
  {
   "cell_type": "code",
   "execution_count": null,
   "metadata": {
    "scrolled": true
   },
   "outputs": [],
   "source": [
    "# LAUNCH THIS BLOCK TO VISUALIZE THE PRE PROCESS\n",
    "from utils import pre_process_regression, process_output_regression\n",
    "\n",
    "def plot_visualization(image):\n",
    "    \"\"\"\n",
    "    Function to visualize the best output we could have from\n",
    "    a perfect a model, given the information lost in the pre-process.\n",
    "    (especially the resizing makes us lose a lot of details)\n",
    "    \"\"\"\n",
    "    features, labels = pre_process_regression(image, resolution=104)\n",
    "    output = process_output_regression(features, labels, np.shape(image))\n",
    "    \n",
    "    plt.subplot(1, 3, 1)\n",
    "    plt.imshow(image)\n",
    "    plt.title(\"original image\")\n",
    "    \n",
    "    plt.subplot(1, 3, 2)\n",
    "    plt.imshow(output)\n",
    "    plt.title(\"optimal network output\")\n",
    "    \n",
    "    plt.subplot(1, 3, 3)\n",
    "    plt.imshow(features[:, :, 0], cmap=\"gray\")\n",
    "    plt.title(\"network input\")\n",
    "\n",
    "\n",
    "list_names = np.random.choice(next(os.walk(IMAGENET_FOLDER))[2], 6, replace=False)\n",
    "for name in list_names:\n",
    "    bgr_image = cv2.imread(IMAGENET_FOLDER + \"/\" + name)\n",
    "    rgb_image = bgr_image[:, :, ::-1]\n",
    "    \n",
    "    plt.figure(figsize=(15, 5))\n",
    "    plot_visualization(rgb_image)"
   ]
  }
 ],
 "metadata": {
  "kernelspec": {
   "display_name": "Python 3",
   "language": "python",
   "name": "python3"
  },
  "language_info": {
   "codemirror_mode": {
    "name": "ipython",
    "version": 3
   },
   "file_extension": ".py",
   "mimetype": "text/x-python",
   "name": "python",
   "nbconvert_exporter": "python",
   "pygments_lexer": "ipython3",
   "version": "3.6.6"
  }
 },
 "nbformat": 4,
 "nbformat_minor": 2
}
